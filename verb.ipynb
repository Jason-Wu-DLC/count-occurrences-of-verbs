{
 "cells": [
  {
   "cell_type": "markdown",
   "metadata": {},
   "source": [
    "##  count occurrences of verbs "
   ]
  },
  {
   "cell_type": "code",
   "execution_count": 1,
   "metadata": {},
   "outputs": [
    {
     "name": "stdout",
     "output_type": "stream",
     "text": [
      "Requirement already satisfied: pyspark in /opt/conda/lib/python3.8/site-packages (3.5.3)\r\n",
      "Requirement already satisfied: py4j==0.10.9.7 in /opt/conda/lib/python3.8/site-packages (from pyspark) (0.10.9.7)\r\n"
     ]
    }
   ],
   "source": [
    "!pip install pyspark"
   ]
  },
  {
   "cell_type": "raw",
   "metadata": {},
   "source": [
    "# Step 1  Read Source Files from HDFS and Create RDDs"
   ]
  },
  {
   "cell_type": "code",
   "execution_count": 2,
   "metadata": {},
   "outputs": [],
   "source": [
    "# Create an RDD from a file\n",
    "from pyspark import SparkContext\n",
    "\n",
    "# Initialize a SparkContext\n",
    "sc = SparkContext.getOrCreate()\n",
    "\n",
    "# Load the csv file into an RDD\n",
    "debates_rdd = sc.textFile(\"hdfs://namenode:9000/un-general-debates.csv\").map(lambda line: line.split(',')[-1])\n",
    "\n",
    "# Load the text file into an RDD\n",
    "verbs_rdd = sc.textFile(\"hdfs://namenode:9000/all_verbs.txt\")\n",
    "\n",
    "# Load the text file into an RDD\n",
    "verb_dict_rdd = sc.textFile(\"hdfs://namenode:9000/verb_dict.txt\")\n"
   ]
  },
  {
   "cell_type": "raw",
   "metadata": {},
   "source": [
    "# Step 2  Use Learned RDD Operations to Preprocess the Debate Texts and count Verb Frequency"
   ]
  },
  {
   "cell_type": "code",
   "execution_count": 3,
   "metadata": {},
   "outputs": [],
   "source": [
    "import re\n",
    "\n",
    "# Filter out None values\n",
    "debates_rdd = debates_rdd.filter(lambda line: line is not None)\n",
    "\n",
    "# Remove empty lines\n",
    "text_rdd_clean = debates_rdd.filter(lambda line: line.strip())\n"
   ]
  },
  {
   "cell_type": "code",
   "execution_count": 4,
   "metadata": {},
   "outputs": [],
   "source": [
    "# Remove punctuation and handle lowercase\n",
    "def tokenize_text(text):\n",
    "    tokens = re.findall(r\"\\b(?:[A-Za-z]\\.){2,}|\\b[A-Za-z]+(?:['-][A-Za-z]+)*|\\d+(?:-\\d+)*\\b\", text.lower())\n",
    "    return tokens\n",
    "\n",
    "text_rdd_clean = debates_rdd.filter(lambda line: line.strip()).flatMap(tokenize_text)"
   ]
  },
  {
   "cell_type": "code",
   "execution_count": 5,
   "metadata": {},
   "outputs": [],
   "source": [
    "# Load in verb list\n",
    "verb_list = verbs_rdd.collect() \n",
    "\n",
    "# filter verb match in verb list\n",
    "verbs_in_text_rdd = text_rdd_clean.filter(lambda word: word in verb_list)"
   ]
  },
  {
   "cell_type": "code",
   "execution_count": 6,
   "metadata": {},
   "outputs": [],
   "source": [
    "# Split each line by commas\n",
    "verb_dict_split = verb_dict_rdd.map(lambda line: line.split(','))\n",
    "\n",
    "# Create (verb form, root verb) for each form and collect as a dictionary\n",
    "verb_dict_flat = verb_dict_split.flatMap(lambda forms: [(form, forms[0]) for form in forms])\n",
    "\n",
    "verb_dict = verb_dict_flat.collectAsMap()"
   ]
  },
  {
   "cell_type": "code",
   "execution_count": 7,
   "metadata": {},
   "outputs": [
    {
     "name": "stdout",
     "output_type": "stream",
     "text": [
      "('be', 350853)\n",
      "('have', 132533)\n",
      "('state', 41644)\n",
      "('make', 26852)\n",
      "('support', 25705)\n",
      "('take', 22237)\n",
      "('continue', 21837)\n",
      "('develop', 21146)\n",
      "('need', 19186)\n",
      "('do', 18590)\n"
     ]
    }
   ],
   "source": [
    "# Transfer in different tenses \n",
    "def normalize_verb(verb, verb_dict_flat):\n",
    "    if verb in verb_dict:\n",
    "        return verb_dict[verb] # Return the infinitive form of the verb in the dictionary\n",
    "    else:\n",
    "        return verb # If the verb does not exist in the dictionary, return the original verb\n",
    "\n",
    "# regular verb\n",
    "verbs_normalized_rdd = verbs_in_text_rdd.map(lambda verb: normalize_verb(verb, verb_dict))\n",
    "    \n",
    "# Count the frequently used verbs\n",
    "verb_counts_rdd = verbs_normalized_rdd.map(lambda verb: (verb, 1)).reduceByKey(lambda a, b: a + b)\n",
    "\n",
    "# Count the top 10 frequently used verbs\n",
    "top_10_verbs = verb_counts_rdd.sortBy(lambda x: x[1], ascending=False).take(10)\n",
    "\n",
    "# Display the results in the format \n",
    "for verb, count in top_10_verbs:\n",
    "    print(f\"('{verb}', {count})\")"
   ]
  },
  {
   "cell_type": "raw",
   "metadata": {},
   "source": [
    "# Step 3 Use Vector Database (Faiss) to Find the Most Similar Debate"
   ]
  },
  {
   "cell_type": "code",
   "execution_count": 8,
   "metadata": {},
   "outputs": [
    {
     "name": "stdout",
     "output_type": "stream",
     "text": [
      "Requirement already up-to-date: typing_extensions in /opt/conda/lib/python3.8/site-packages (4.12.2)\r\n"
     ]
    }
   ],
   "source": [
    "!pip install --upgrade typing_extensions"
   ]
  },
  {
   "cell_type": "code",
   "execution_count": 9,
   "metadata": {},
   "outputs": [
    {
     "name": "stdout",
     "output_type": "stream",
     "text": [
      "Requirement already satisfied: torch in /opt/conda/lib/python3.8/site-packages (2.4.1)\n",
      "Requirement already satisfied: sentence-transformers in /opt/conda/lib/python3.8/site-packages (3.1.1)\n",
      "Requirement already satisfied: nvidia-cusolver-cu12==11.4.5.107; platform_system == \"Linux\" and platform_machine == \"x86_64\" in /opt/conda/lib/python3.8/site-packages (from torch) (11.4.5.107)\n",
      "Requirement already satisfied: nvidia-nvtx-cu12==12.1.105; platform_system == \"Linux\" and platform_machine == \"x86_64\" in /opt/conda/lib/python3.8/site-packages (from torch) (12.1.105)\n",
      "Requirement already satisfied: nvidia-cublas-cu12==12.1.3.1; platform_system == \"Linux\" and platform_machine == \"x86_64\" in /opt/conda/lib/python3.8/site-packages (from torch) (12.1.3.1)\n",
      "Requirement already satisfied: jinja2 in /opt/conda/lib/python3.8/site-packages (from torch) (2.11.2)\n",
      "Requirement already satisfied: nvidia-curand-cu12==10.3.2.106; platform_system == \"Linux\" and platform_machine == \"x86_64\" in /opt/conda/lib/python3.8/site-packages (from torch) (10.3.2.106)\n",
      "Requirement already satisfied: nvidia-nccl-cu12==2.20.5; platform_system == \"Linux\" and platform_machine == \"x86_64\" in /opt/conda/lib/python3.8/site-packages (from torch) (2.20.5)\n",
      "Requirement already satisfied: triton==3.0.0; platform_system == \"Linux\" and platform_machine == \"x86_64\" and python_version < \"3.13\" in /opt/conda/lib/python3.8/site-packages (from torch) (3.0.0)\n",
      "Requirement already satisfied: nvidia-cuda-runtime-cu12==12.1.105; platform_system == \"Linux\" and platform_machine == \"x86_64\" in /opt/conda/lib/python3.8/site-packages (from torch) (12.1.105)\n",
      "Requirement already satisfied: typing-extensions>=4.8.0 in /opt/conda/lib/python3.8/site-packages (from torch) (4.12.2)\n",
      "Requirement already satisfied: nvidia-cudnn-cu12==9.1.0.70; platform_system == \"Linux\" and platform_machine == \"x86_64\" in /opt/conda/lib/python3.8/site-packages (from torch) (9.1.0.70)\n",
      "Requirement already satisfied: nvidia-cufft-cu12==11.0.2.54; platform_system == \"Linux\" and platform_machine == \"x86_64\" in /opt/conda/lib/python3.8/site-packages (from torch) (11.0.2.54)\n",
      "Requirement already satisfied: nvidia-cusparse-cu12==12.1.0.106; platform_system == \"Linux\" and platform_machine == \"x86_64\" in /opt/conda/lib/python3.8/site-packages (from torch) (12.1.0.106)\n",
      "Requirement already satisfied: networkx in /opt/conda/lib/python3.8/site-packages (from torch) (2.5)\n",
      "Requirement already satisfied: fsspec in /opt/conda/lib/python3.8/site-packages (from torch) (0.8.4)\n",
      "Requirement already satisfied: sympy in /opt/conda/lib/python3.8/site-packages (from torch) (1.6.2)\n",
      "Requirement already satisfied: nvidia-cuda-cupti-cu12==12.1.105; platform_system == \"Linux\" and platform_machine == \"x86_64\" in /opt/conda/lib/python3.8/site-packages (from torch) (12.1.105)\n",
      "Requirement already satisfied: nvidia-cuda-nvrtc-cu12==12.1.105; platform_system == \"Linux\" and platform_machine == \"x86_64\" in /opt/conda/lib/python3.8/site-packages (from torch) (12.1.105)\n",
      "Requirement already satisfied: filelock in /opt/conda/lib/python3.8/site-packages (from torch) (3.16.1)\n",
      "Requirement already satisfied: huggingface-hub>=0.19.3 in /opt/conda/lib/python3.8/site-packages (from sentence-transformers) (0.25.1)\n",
      "Requirement already satisfied: transformers<5.0.0,>=4.38.0 in /opt/conda/lib/python3.8/site-packages (from sentence-transformers) (4.45.1)\n",
      "Requirement already satisfied: scipy in /opt/conda/lib/python3.8/site-packages (from sentence-transformers) (1.5.3)\n",
      "Requirement already satisfied: tqdm in /opt/conda/lib/python3.8/site-packages (from sentence-transformers) (4.51.0)\n",
      "Requirement already satisfied: Pillow in /opt/conda/lib/python3.8/site-packages (from sentence-transformers) (8.0.1)\n",
      "Requirement already satisfied: scikit-learn in /opt/conda/lib/python3.8/site-packages (from sentence-transformers) (0.23.2)\n",
      "Requirement already satisfied: nvidia-nvjitlink-cu12 in /opt/conda/lib/python3.8/site-packages (from nvidia-cusolver-cu12==11.4.5.107; platform_system == \"Linux\" and platform_machine == \"x86_64\"->torch) (12.6.77)\n",
      "Requirement already satisfied: MarkupSafe>=0.23 in /opt/conda/lib/python3.8/site-packages (from jinja2->torch) (1.1.1)\n",
      "Requirement already satisfied: decorator>=4.3.0 in /opt/conda/lib/python3.8/site-packages (from networkx->torch) (4.4.2)\n",
      "Requirement already satisfied: mpmath>=0.19 in /opt/conda/lib/python3.8/site-packages (from sympy->torch) (1.1.0)\n",
      "Requirement already satisfied: pyyaml>=5.1 in /opt/conda/lib/python3.8/site-packages (from huggingface-hub>=0.19.3->sentence-transformers) (5.3.1)\n",
      "Requirement already satisfied: requests in /opt/conda/lib/python3.8/site-packages (from huggingface-hub>=0.19.3->sentence-transformers) (2.24.0)\n",
      "Requirement already satisfied: packaging>=20.9 in /opt/conda/lib/python3.8/site-packages (from huggingface-hub>=0.19.3->sentence-transformers) (24.1)\n",
      "Requirement already satisfied: regex!=2019.12.17 in /opt/conda/lib/python3.8/site-packages (from transformers<5.0.0,>=4.38.0->sentence-transformers) (2024.9.11)\n",
      "Requirement already satisfied: safetensors>=0.4.1 in /opt/conda/lib/python3.8/site-packages (from transformers<5.0.0,>=4.38.0->sentence-transformers) (0.4.5)\n",
      "Requirement already satisfied: tokenizers<0.21,>=0.20 in /opt/conda/lib/python3.8/site-packages (from transformers<5.0.0,>=4.38.0->sentence-transformers) (0.20.0)\n",
      "Requirement already satisfied: numpy>=1.17 in /opt/conda/lib/python3.8/site-packages (from transformers<5.0.0,>=4.38.0->sentence-transformers) (1.19.4)\n",
      "Requirement already satisfied: joblib>=0.11 in /opt/conda/lib/python3.8/site-packages (from scikit-learn->sentence-transformers) (0.17.0)\n",
      "Requirement already satisfied: threadpoolctl>=2.0.0 in /opt/conda/lib/python3.8/site-packages (from scikit-learn->sentence-transformers) (2.1.0)\n",
      "Requirement already satisfied: certifi>=2017.4.17 in /opt/conda/lib/python3.8/site-packages (from requests->huggingface-hub>=0.19.3->sentence-transformers) (2020.6.20)\n",
      "Requirement already satisfied: urllib3!=1.25.0,!=1.25.1,<1.26,>=1.21.1 in /opt/conda/lib/python3.8/site-packages (from requests->huggingface-hub>=0.19.3->sentence-transformers) (1.25.11)\n",
      "Requirement already satisfied: idna<3,>=2.5 in /opt/conda/lib/python3.8/site-packages (from requests->huggingface-hub>=0.19.3->sentence-transformers) (2.10)\n",
      "Requirement already satisfied: chardet<4,>=3.0.2 in /opt/conda/lib/python3.8/site-packages (from requests->huggingface-hub>=0.19.3->sentence-transformers) (3.0.4)\n"
     ]
    }
   ],
   "source": [
    "!pip install torch sentence-transformers"
   ]
  },
  {
   "cell_type": "code",
   "execution_count": 10,
   "metadata": {},
   "outputs": [
    {
     "name": "stdout",
     "output_type": "stream",
     "text": [
      "Name: typing-extensions\r\n",
      "Version: 4.12.2\r\n",
      "Summary: Backported and Experimental Type Hints for Python 3.8+\r\n",
      "Home-page: None\r\n",
      "Author: None\r\n",
      "Author-email: \"Guido van Rossum, Jukka Lehtosalo, Łukasz Langa, Michael Lee\" <levkivskyi@gmail.com>\r\n",
      "License: None\r\n",
      "Location: /opt/conda/lib/python3.8/site-packages\r\n",
      "Requires: \r\n",
      "Required-by: torch, huggingface-hub, bokeh\r\n"
     ]
    }
   ],
   "source": [
    "!pip show typing_extensions"
   ]
  },
  {
   "cell_type": "code",
   "execution_count": 11,
   "metadata": {},
   "outputs": [
    {
     "name": "stdout",
     "output_type": "stream",
     "text": [
      "Requirement already satisfied: numpy in /opt/conda/lib/python3.8/site-packages (1.19.4)\r\n"
     ]
    }
   ],
   "source": [
    "!pip install numpy"
   ]
  },
  {
   "cell_type": "code",
   "execution_count": 12,
   "metadata": {},
   "outputs": [
    {
     "name": "stdout",
     "output_type": "stream",
     "text": [
      "Requirement already satisfied: tqdm in /opt/conda/lib/python3.8/site-packages (4.51.0)\r\n"
     ]
    }
   ],
   "source": [
    "!pip install tqdm"
   ]
  },
  {
   "cell_type": "code",
   "execution_count": 13,
   "metadata": {},
   "outputs": [
    {
     "name": "stderr",
     "output_type": "stream",
     "text": [
      "/opt/conda/lib/python3.8/site-packages/sentence_transformers/cross_encoder/CrossEncoder.py:13: TqdmExperimentalWarning: Using `tqdm.autonotebook.tqdm` in notebook mode. Use `tqdm.tqdm` instead to force console mode (e.g. in jupyter console)\n",
      "  from tqdm.autonotebook import tqdm, trange\n",
      "/opt/conda/lib/python3.8/site-packages/transformers/tokenization_utils_base.py:1617: FutureWarning: `clean_up_tokenization_spaces` was not set. It will be set to `True` by default. This behavior will be deprecated in transformers v4.45, and will be then set to `False` by default. For more details check this issue: https://github.com/huggingface/transformers/issues/31884\n",
      "  warnings.warn(\n"
     ]
    }
   ],
   "source": [
    "from sentence_transformers import SentenceTransformer\n",
    "import faiss\n",
    "import numpy as np\n",
    "from tqdm.notebook import tqdm\n",
    "\n",
    "# Load the SentenceTransformer model\n",
    "model = SentenceTransformer('all-MiniLM-L6-v2')\n"
   ]
  },
  {
   "cell_type": "code",
   "execution_count": 20,
   "metadata": {},
   "outputs": [],
   "source": [
    "\"\"\"\n",
    "The code snippet (How to make Faiss run faster) below has been sourced from\n",
    "https://github.com/facebookresearch/faiss/wiki/How-to-make-Faiss-run-faster\n",
    "The code snippet appears in its original form to speed up query\n",
    "\"\"\"\n",
    "\n",
    "# Function to encode complete debate texts and create a Faiss IVFPQ index\n",
    "def encode_and_index(debate_texts, model, batch_size=512, nlist=100):\n",
    "    all_vectors = []\n",
    "    \"\"\"\n",
    "    The code snippet (tqdm) below has been sourced from\n",
    "    https://github.com/tqdm/tqdm\n",
    "    I have applied to check process status.\n",
    "    \"\"\"\n",
    "    # Encode full debate texts in batches with a progress bar\n",
    "    for i in tqdm(range(0, len(debate_texts), batch_size), desc=\"Encoding Loading\"):\n",
    "        batch = debate_texts[i:i+batch_size]\n",
    "        all_vectors.append(model.encode(batch))\n",
    "    \n",
    "    \"\"\"\n",
    "    The code snippet (IVFPQ) below has been sourced from\n",
    "    https://github.com/facebookresearch/faiss/blob/main/tutorial/python/3-IVFPQ.py\n",
    "    I have applied to speed up query.\n",
    "    \"\"\"\n",
    "    # Combine all encoded vectors\n",
    "    debate_vectors = np.vstack(all_vectors)\n",
    "    dimension = 384\n",
    "    \n",
    "    # Create a Faiss index with IVFPQ for faster searches\n",
    "    quantizer = faiss.IndexFlatL2(dimension)\n",
    "    indexIVF = faiss.IndexIVFPQ(quantizer, dimension, nlist, 4, 8)\n",
    "    \n",
    "    # Train the index on debate vectors\n",
    "    indexIVF.train(debate_vectors)\n",
    "    \n",
    "    # Add the vectors to the index\n",
    "    indexIVF.add(debate_vectors)\n",
    "    \n",
    "    # Enable precomputed lookup tables to speed up searches\n",
    "    indexIVF.use_precomputed_table = True\n",
    "\n",
    "    return indexIVF, debate_vectors\n"
   ]
  },
  {
   "cell_type": "code",
   "execution_count": 21,
   "metadata": {},
   "outputs": [],
   "source": [
    "# Function to search for the most similar debate to the query\n",
    "def search_similar_debate(query_sentence, model, indexIVF, debate_texts, nprobe=8):\n",
    "    # Encode the query sentence into a vector\n",
    "    query_vector = model.encode([query_sentence])\n",
    "    \n",
    "    # Set the number of clusters to search through\n",
    "    indexIVF.nprobe = nprobe\n",
    "    \n",
    "    # Search for the most similar debate\n",
    "    D, I = indexIVF.search(query_vector, k=1)\n",
    "    \n",
    "    # Return the most similar debate based on the search result\n",
    "    most_similar_debate = debate_texts[I[0][0]]\n",
    "    return most_similar_debate\n"
   ]
  },
  {
   "cell_type": "code",
   "execution_count": 22,
   "metadata": {},
   "outputs": [
    {
     "data": {
      "application/vnd.jupyter.widget-view+json": {
       "model_id": "e18ca038bb58478096da34a710bdff94",
       "version_major": 2,
       "version_minor": 0
      },
      "text/plain": [
       "HBox(children=(HTML(value='Encoding Loading'), FloatProgress(value=0.0, max=15.0), HTML(value='')))"
      ]
     },
     "metadata": {},
     "output_type": "display_data"
    },
    {
     "name": "stdout",
     "output_type": "stream",
     "text": [
      "\n"
     ]
    }
   ],
   "source": [
    "import pandas as pd\n",
    "\n",
    "# Read the CSV file and choose text row\n",
    "df = pd.read_csv('un-general-debates.csv')\n",
    "debates_list = df['text'].tolist() \n",
    "\n",
    "\n",
    "# Encode the debate texts and store them in a Faiss index\n",
    "indexIVF, debate_vectors = encode_and_index(debates_list, model, batch_size=512, nlist=100)\n"
   ]
  },
  {
   "cell_type": "code",
   "execution_count": 23,
   "metadata": {},
   "outputs": [
    {
     "name": "stdout",
     "output_type": "stream",
     "text": [
      "The Most similar to the query is:\n",
      "At the outset of my \n",
      "statement, I wish to offer the President and our  \n",
      "newly appointed Secretary-General my warmest \n",
      "congratulations and best wishes for the success of the \n",
      "sixty-second session of the General Assembly, which \n",
      "has as its main focus the impact of climate change on \n",
      "global peace and development. \n",
      " As the recently concluded High-level Event \n",
      "revealed, there is now a greater awareness of that issue \n",
      "and of the need to address them with greater urgency. \n",
      "Like the legendary Rip Van Winkle, we appear to have \n",
      "finally awakened from a long and deep slumber, only \n",
      "to find that the world around us is in serious danger of \n",
      "degradation. Our environment has become frightening. \n",
      "As a result of the increased consumption of fossil fuels \n",
      "in past decades, the amount of carbon dioxide in the \n",
      "atmosphere has increased by more than 25 per cent, \n",
      "which will, if unmitigated, eventually lead to a rise in \n",
      "the Earth’s temperature of more than 5 degrees in the \n",
      "years ahead. Such warming is likely to produce an \n",
      "increase in sea levels of almost 2 metres. Since one \n",
      "third of the world’s population lives close to coastlines, \n",
      "such an elevation will have a disastrous impact on the \n",
      "living conditions of many millions. At the same time, \n",
      "the world’s forests are said to be vanishing at a rate of \n",
      "15 million hectares a year, threatening the loss of \n",
      "almost 50 per cent of the forest cover in developing \n",
      "countries. Altogether, those climatic changes will take \n",
      "a heavy toll on the economic and social growth of \n",
      "many countries, through a higher incidence of drought, \n",
      "desertification, flooding and other natural disasters. \n",
      " The primary responsibility for this environmental \n",
      "degradation has been laid   quite rightly   at the \n",
      "door of those developed countries whose \n",
      "industrialization policies and programmes have shown \n",
      "scant regard for preservation of the global ecosystem. \n",
      "By piggybacking on the natural assets of developing \n",
      "countries, those States have achieved astonishing \n",
      "economic and social progress and have created \n",
      "consumerist societies whose appetites for ever-greater \n",
      "extravagance know no bounds and must be satisfied at \n",
      "all costs. \n",
      " In the face of mounting evidence that climate \n",
      "change does in fact imperil the Earth and its resources, \n",
      "some developed States appear willing to accept   \n",
      "albeit reluctantly   that carbon emissions must be \n",
      "significantly reduced to preserve the ozone layer as a \n",
      "shield from the effects of greenhouse gases. Even so, \n",
      "they do not seem prepared to accept primary \n",
      "responsibility for protecting the environment. Instead \n",
      "of “common but differentiated responsibility”, they \n",
      "speak of “shared responsibility”, clearly demanding a \n",
      "greater contribution by developing countries to the \n",
      "campaign against climate change. This demand often \n",
      "becomes a conditionality for any development \n",
      "assistance they offer. \n",
      " For the many developing countries which suffer \n",
      "from a chronic lack of resources, this imposition is \n",
      "clearly unequal and unfair. These States, including \n",
      "many in sub-Saharan Africa, small islands in the \n",
      "Caribbean and the Pacific, and low-lying coastal States \n",
      "like my own, are especially vulnerable to climatic \n",
      "changes and, consequently, disaster prone. The \n",
      "Barbados Programme of Action and the subsequent \n",
      "Mauritius Strategy were both devised for the purpose \n",
      "of alleviating the destructive impact of the many \n",
      "natural disasters faced by these disadvantaged \n",
      "countries. However, despite their initial promise, these \n",
      "agreements have yet to yield the measure of assistance \n",
      "needed by small States to overcome the consequences \n",
      "of climate change. Invariably, these affected countries \n",
      "must rely on their own limited resources to protect \n",
      "their environment from harm. \n",
      " Guyana fully understood and responded to the \n",
      "challenges of climate change when, more than a decade \n",
      "ago, it made available to the international community \n",
      "almost one million acres of its pristine forest for the \n",
      "study of bio-diversity and the sustainable development \n",
      "of forestry. However, the future of this project is now \n",
      "threatened, since financial support from the \n",
      "international community has become increasingly \n",
      "scarce. At the same time, as our President stated at the \n",
      "High-level Event, the Kyoto Protocol rewards   quite \n",
      "perversely, I might add   those States which burn and \n",
      "pillage their resources but punishes others like Guyana \n",
      "which are committed to preserving their standing \n",
      "forests. This inequity should no longer be tolerated. \n",
      " It is very important that any post-Kyoto \n",
      "agreement be endowed with the resources necessary for \n",
      "its full implementation. Development assistance \n",
      "statistics have shown a marked diminution in levels \n",
      "from past years, with little promise of the additional or \n",
      "new financing needed for environment-related projects. \n",
      "There, therefore, needs to be what has been called a \n",
      "partnership for additionality which, in return for a \n",
      "commitment by countries to the preservation of the \n",
      "environment, will provide adequate and predictable \n",
      "financing to allow them to pursue a path of accelerated \n",
      "and sustainable development. It is high time to honour \n",
      "the commitments made at the Monterrey International \n",
      "Conference on Financing for Development. \n",
      " As a country which is below sea-level, Guyana \n",
      "has been further sensitized to the threat of climate \n",
      "change as a result of frequent floods that wreak \n",
      "economic havoc on our coastal population. The last \n",
      "major inundation was in 2005, when the economic loss \n",
      "suffered was, according to the estimate of the \n",
      "Economic Commission for Latin America and the \n",
      "Caribbean, nearly 60 per cent of the country’s gross \n",
      "domestic product. Unfortunately for us, the tragedy, \n",
      "occurring as it did around the same time as the tsunami \n",
      "disaster, did not feature prominently on the \n",
      "international radar screen and, therefore, received little \n",
      "notice in the wider community. However, thanks to the \n",
      "assistance of a few friendly countries and the resilience \n",
      "of our own people, we are on the road to recovery. That \n",
      "experience, however, impels us to renew our call in \n",
      "this Assembly for the strengthening of multilateral \n",
      "facilities to provide all victims of such natural disasters \n",
      "with prompt and adequate relief. \n",
      " As both the outcome of the High-level Event and \n",
      "the statements heard so far in this Assembly make \n",
      "clear, the battle against climate change cannot be won \n",
      "unless a truly global effort is made to save the planet. \n",
      "In the words of my country’s national poet, Martin \n",
      "Carter, in his poem entitled “All are involved”: \n",
      " Like a jig \n",
      " shakes the loom; \n",
      " Like a web \n",
      " is spun the pattern; \n",
      " all are involved \n",
      " all are consumed (All are involved) \n",
      " Therefore, unless all of us, both Governments and \n",
      "peoples, accept in a deep and meaningful way the \n",
      "imperative of prudent environmental management, our \n",
      "civilization, such as we know it, will disappear. \n",
      " In this new era of globalization, humankind has \n",
      "been made acutely aware of the deep interdependence \n",
      "of nations and the concomitant need for cooperation \n",
      "with one another to ensure our common survival. This \n",
      "awareness notwithstanding, many in the developed \n",
      "world continue to practise their misguided “beggar-thy-\n",
      "neighbour” policy, which effectively precludes \n",
      "developing countries from satisfying the aspirations of \n",
      "their people. \n",
      " Take, for example, the area of trade and economic \n",
      "cooperation, the main pillar on which globalization has \n",
      "been built. The developed countries continue to \n",
      "propagate the thesis that free trade will guarantee \n",
      "prosperity for all. The reality is that most countries, \n",
      "including my own, simply cannot compete successfully \n",
      "in fully liberalized markets unless they are assisted in \n",
      "making a gradual transition. Instead of assistance, \n",
      "however, some of the preferences that we enjoyed \n",
      "hitherto in some markets are being summarily \n",
      "withdrawn. \n",
      " Witness the unilateral denunciation last week by \n",
      "the European Union of the Sugar Protocol, a legally \n",
      "binding instrument of indefinite duration, which \n",
      "governs the sugar exports of many African, Caribbean \n",
      "and Pacific countries to Europe. This step comes in the \n",
      "midst of negotiations on this issue and is clearly a sign \n",
      "of bad faith. It has been taken without adequate \n",
      "consultation and clarification and contradicts the \n",
      "European Union’s own lectures to us on partnership \n",
      "and good governance. As a result of this action, \n",
      "thousands of our citizens, especially the rural poor, \n",
      "whose lives depend upon the sugar industry, will likely \n",
      "face great hardship. It is, therefore, imperative that in \n",
      "the negotiation of future trade arrangements, including \n",
      "the Doha Round, due regard be paid to the \n",
      "development challenges of small States. \n",
      " Similarly, in the area of peace and security there \n",
      "is continuing blatant disregard of the rule of law by \n",
      "many States that, in pursuit of their own selfish \n",
      "national interests, do not hesitate to fan the flames of \n",
      "conflict in various parts of the world. As a \n",
      "consequence, millions in Darfur, in Palestine, in the \n",
      "Middle East and elsewhere are forced to endure \n",
      "unspeakable pain and suffering   pain and suffering \n",
      "which, in today’s world of instant communication, we \n",
      "not only hear about but also actually see and feel in \n",
      "real time. Our common humanity obliges us to call \n",
      "once again for a return to the purposes and principles \n",
      "of the United Nations Charter, and in particular the \n",
      "peaceful settlement of disputes, wherever and \n",
      "whenever they occur. \n",
      " In this context, I am pleased to announce that last \n",
      "month on 20 September an arbitral tribunal of great \n",
      "eminence under the presidency of Judge Dolliver \n",
      "Nelson, distinguished former President of the \n",
      "International Tribunal for the Law of the Sea, sitting \n",
      "pursuant to Annex VII of the United Nations \n",
      "Convention on the Law of the Sea, handed down a \n",
      "decision regarding the maritime boundary between \n",
      "Guyana and neighbouring Suriname. The President of \n",
      "Guyana described the decision as just and erudite; the \n",
      "President of Suriname called it fair and equitable. It \n",
      "was another feather in the crown of international law, \n",
      "another blow struck against the resort to force and \n",
      "another victory for lawful and peaceful processes in the \n",
      "settlement of disputes.  \n",
      " Guyana had initiated recourse to the dispute \n",
      "settlement provisions of the Convention, which, I am \n",
      "happy to recall, was brought into force by our \n",
      "country’s ratification in 1993. Under the aegis of a \n",
      "United Nations regime created by internationalism and \n",
      "the rule of international law, our two small countries \n",
      "can now pursue the development of their maritime \n",
      "space without the encumbrance of a dispute. It is an \n",
      "example of the peaceful settlement of a dispute that \n",
      "others might emulate.  \n",
      " In further demonstration of its commitment to the \n",
      "Charter of the United Nations, my Government has \n",
      "placed before the General Assembly an initiative \n",
      "calling for a new global human order based on the \n",
      "principles of equity and social justice. It is born out of \n",
      "our conviction that, given the failure of our past \n",
      "efforts, the world now needs to formulate a \n",
      "qualitatively different and more holistic strategy, \n",
      "leading to a stronger political consensus and broad-\n",
      "based partnership before the General Assembly. The \n",
      "draft resolution now enjoys the sponsorship of forty-\n",
      "nine States and will in time, we hope, command the \n",
      "support of the entire international community. \n",
      " As this new era of globalization unfolds, with its \n",
      "many challenges and opportunities, I invite this \n",
      "Assembly to support fully our appeal for the firm \n",
      "establishment of a more enlightened and \n",
      "compassionate model of multilateralism as the \n",
      "cornerstone of future international relations. \n",
      "\n"
     ]
    }
   ],
   "source": [
    "# The query sentence\n",
    "query_sentence = \"Global climate change is both a serious threat to our planet and survival.\"\n",
    "\n",
    "# Search for the most similar debate content to the query\n",
    "most_similar_debate = search_similar_debate(query_sentence, model, indexIVF, debates_list, )\n",
    "\n",
    "# Output the most similar debate text\n",
    "print(\"The Most similar to the query is:\")\n",
    "print(most_similar_debate)\n",
    "\n"
   ]
  },
  {
   "cell_type": "code",
   "execution_count": null,
   "metadata": {},
   "outputs": [],
   "source": []
  },
  {
   "cell_type": "code",
   "execution_count": null,
   "metadata": {},
   "outputs": [],
   "source": []
  }
 ],
 "metadata": {
  "kernelspec": {
   "display_name": "Python 3",
   "language": "python",
   "name": "python3"
  },
  "language_info": {
   "codemirror_mode": {
    "name": "ipython",
    "version": 3
   },
   "file_extension": ".py",
   "mimetype": "text/x-python",
   "name": "python",
   "nbconvert_exporter": "python",
   "pygments_lexer": "ipython3",
   "version": "3.8.6"
  }
 },
 "nbformat": 4,
 "nbformat_minor": 4
}
